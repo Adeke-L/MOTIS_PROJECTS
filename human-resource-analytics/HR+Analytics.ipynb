{
 "cells": [
  {
   "cell_type": "markdown",
   "metadata": {},
   "source": [
    "# HR Analytics"
   ]
  },
  {
   "cell_type": "markdown",
   "metadata": {},
   "source": [
    "The data sets include data about employees and features include employee satisfaction rate, performance level, salary level etc...\n",
    "\n",
    "The point of the study is to figure out how to keep employees for a longer period of time by identifying the key factors of them leaving by analyzing the data.\n",
    "\n",
    "To begin with, the dataset is already reasonably clean. We only transformed the salary level from a string category to numerical category.\n",
    "\n",
    "After that we created two datasets based on the cleaned set.\n",
    "\n",
    "One is grouped by employee deparment and the other grouped by the \"left\" column (which indicates if the employee left or not)\n",
    "\n",
    "The resulting data sets lets us see different relationships between features.\n",
    "\n",
    "Some of the correlations found:\n",
    "\n",
    "-Rate of employees leaving on the 5th year with the company\n",
    "-Leave rate and satisfaction level\n",
    "-Satisfaction level with number of projects and employee rate\n",
    "-Relationship between monthly hours and both leaving rate and satisfaction level\n",
    "\n",
    "All these relationships are shown in the project's dashboard.\n",
    "\n",
    "In addition to these obsevations, we trained two models which will help with predicting if an employee will leave. These models were based on two algorithms:\n",
    "-XBoost\n",
    "-Random Forest\n",
    "\n",
    "By observing the two models and going into each feature's importance we got a better understanding on the features.\n",
    "\n",
    "Based on all the previous data and information we can make these recommendations to limit the number of employees leaving and increasing satisfaction:\n",
    "\n",
    "limit the number of maximum projects per employee to 5\n",
    "\n",
    "limit the max number of hours worked per month to 270.\n",
    "\n",
    "Employees evaluated below 0.5 need to be reassessed to figure out the performance dip issue before the employee leaves\n"
   ]
  }
 ],
 "metadata": {
  "creator": "admin",
  "kernelspec": {
   "display_name": "Python 2",
   "language": "python",
   "name": "python2"
  },
  "language_info": {
   "codemirror_mode": {
    "name": "ipython",
    "version": 2
   },
   "file_extension": ".py",
   "mimetype": "text/x-python",
   "name": "python",
   "nbconvert_exporter": "python",
   "pygments_lexer": "ipython2",
   "version": "2.7.5"
  }
 },
 "nbformat": 4,
 "nbformat_minor": 0
}
